{
 "cells": [
  {
   "cell_type": "code",
   "execution_count": 2,
   "metadata": {
    "ExecuteTime": {
     "end_time": "2023-07-19T12:16:17.604943Z",
     "start_time": "2023-07-19T12:16:17.536081Z"
    }
   },
   "outputs": [],
   "source": [
    "# Import the modules\n",
    "import numpy as np\n",
    "import pandas as pd\n",
    "from pathlib import Path\n",
    "from sklearn.metrics import confusion_matrix, classification_report"
   ]
  },
  {
   "attachments": {},
   "cell_type": "markdown",
   "metadata": {},
   "source": [
    "## Split the Data into Training and Testing Sets"
   ]
  },
  {
   "attachments": {},
   "cell_type": "markdown",
   "metadata": {},
   "source": [
    "### Step 1: Read the `lending_data.csv` data from the `Resources` folder into a Pandas DataFrame."
   ]
  },
  {
   "cell_type": "code",
   "execution_count": 13,
   "metadata": {
    "ExecuteTime": {
     "end_time": "2023-07-19T12:16:49.796229Z",
     "start_time": "2023-07-19T12:16:49.732324Z"
    }
   },
   "outputs": [
    {
     "data": {
      "text/plain": "   loan_size  interest_rate  borrower_income  debt_to_income  num_of_accounts  \\\n0    10700.0          7.672            52800        0.431818                5   \n1     8400.0          6.692            43600        0.311927                3   \n2     9000.0          6.963            46100        0.349241                3   \n3    10700.0          7.664            52700        0.430740                5   \n4    10800.0          7.698            53000        0.433962                5   \n\n   derogatory_marks  total_debt  loan_status  \n0                 1       22800            0  \n1                 0       13600            0  \n2                 0       16100            0  \n3                 1       22700            0  \n4                 1       23000            0  ",
      "text/html": "<div>\n<style scoped>\n    .dataframe tbody tr th:only-of-type {\n        vertical-align: middle;\n    }\n\n    .dataframe tbody tr th {\n        vertical-align: top;\n    }\n\n    .dataframe thead th {\n        text-align: right;\n    }\n</style>\n<table border=\"1\" class=\"dataframe\">\n  <thead>\n    <tr style=\"text-align: right;\">\n      <th></th>\n      <th>loan_size</th>\n      <th>interest_rate</th>\n      <th>borrower_income</th>\n      <th>debt_to_income</th>\n      <th>num_of_accounts</th>\n      <th>derogatory_marks</th>\n      <th>total_debt</th>\n      <th>loan_status</th>\n    </tr>\n  </thead>\n  <tbody>\n    <tr>\n      <th>0</th>\n      <td>10700.0</td>\n      <td>7.672</td>\n      <td>52800</td>\n      <td>0.431818</td>\n      <td>5</td>\n      <td>1</td>\n      <td>22800</td>\n      <td>0</td>\n    </tr>\n    <tr>\n      <th>1</th>\n      <td>8400.0</td>\n      <td>6.692</td>\n      <td>43600</td>\n      <td>0.311927</td>\n      <td>3</td>\n      <td>0</td>\n      <td>13600</td>\n      <td>0</td>\n    </tr>\n    <tr>\n      <th>2</th>\n      <td>9000.0</td>\n      <td>6.963</td>\n      <td>46100</td>\n      <td>0.349241</td>\n      <td>3</td>\n      <td>0</td>\n      <td>16100</td>\n      <td>0</td>\n    </tr>\n    <tr>\n      <th>3</th>\n      <td>10700.0</td>\n      <td>7.664</td>\n      <td>52700</td>\n      <td>0.430740</td>\n      <td>5</td>\n      <td>1</td>\n      <td>22700</td>\n      <td>0</td>\n    </tr>\n    <tr>\n      <th>4</th>\n      <td>10800.0</td>\n      <td>7.698</td>\n      <td>53000</td>\n      <td>0.433962</td>\n      <td>5</td>\n      <td>1</td>\n      <td>23000</td>\n      <td>0</td>\n    </tr>\n  </tbody>\n</table>\n</div>"
     },
     "execution_count": 13,
     "metadata": {},
     "output_type": "execute_result"
    }
   ],
   "source": [
    "# Read the CSV file from the Resources folder into a Pandas DataFrame\n",
    "df = pd.read_csv(\"Resources/lending_data.csv\")\n",
    "\n",
    "# Review the DataFrame\n",
    "df.head()"
   ]
  },
  {
   "attachments": {},
   "cell_type": "markdown",
   "metadata": {},
   "source": [
    "### Step 2: Create the labels set (`y`)  from the “loan_status” column, and then create the features (`X`) DataFrame from the remaining columns."
   ]
  },
  {
   "cell_type": "code",
   "execution_count": 14,
   "metadata": {
    "ExecuteTime": {
     "end_time": "2023-07-19T12:17:40.443077Z",
     "start_time": "2023-07-19T12:17:40.437872Z"
    }
   },
   "outputs": [],
   "source": [
    "# Separate the data into labels and features\n",
    "\n",
    "# Separate the y variable, the labels\n",
    "y = df[\"loan_status\"]\n",
    "\n",
    "# Separate the X variable, the features\n",
    "\n",
    "X = df.drop(columns= 'loan_status')"
   ]
  },
  {
   "cell_type": "code",
   "execution_count": 15,
   "metadata": {
    "ExecuteTime": {
     "end_time": "2023-07-19T12:17:49.201875Z",
     "start_time": "2023-07-19T12:17:49.189589Z"
    }
   },
   "outputs": [
    {
     "name": "stdout",
     "output_type": "stream",
     "text": [
      "0        0\n",
      "1        0\n",
      "2        0\n",
      "3        0\n",
      "4        0\n",
      "        ..\n",
      "77531    1\n",
      "77532    1\n",
      "77533    1\n",
      "77534    1\n",
      "77535    1\n",
      "Name: loan_status, Length: 77536, dtype: int64\n"
     ]
    }
   ],
   "source": [
    "# Review the y variable Series\n",
    "print(y)"
   ]
  },
  {
   "cell_type": "code",
   "execution_count": 16,
   "metadata": {
    "ExecuteTime": {
     "end_time": "2023-07-19T12:18:00.545741Z",
     "start_time": "2023-07-19T12:18:00.535723Z"
    }
   },
   "outputs": [
    {
     "data": {
      "text/plain": "   loan_size  interest_rate  borrower_income  debt_to_income  num_of_accounts  \\\n0    10700.0          7.672            52800        0.431818                5   \n1     8400.0          6.692            43600        0.311927                3   \n2     9000.0          6.963            46100        0.349241                3   \n3    10700.0          7.664            52700        0.430740                5   \n4    10800.0          7.698            53000        0.433962                5   \n\n   derogatory_marks  total_debt  \n0                 1       22800  \n1                 0       13600  \n2                 0       16100  \n3                 1       22700  \n4                 1       23000  ",
      "text/html": "<div>\n<style scoped>\n    .dataframe tbody tr th:only-of-type {\n        vertical-align: middle;\n    }\n\n    .dataframe tbody tr th {\n        vertical-align: top;\n    }\n\n    .dataframe thead th {\n        text-align: right;\n    }\n</style>\n<table border=\"1\" class=\"dataframe\">\n  <thead>\n    <tr style=\"text-align: right;\">\n      <th></th>\n      <th>loan_size</th>\n      <th>interest_rate</th>\n      <th>borrower_income</th>\n      <th>debt_to_income</th>\n      <th>num_of_accounts</th>\n      <th>derogatory_marks</th>\n      <th>total_debt</th>\n    </tr>\n  </thead>\n  <tbody>\n    <tr>\n      <th>0</th>\n      <td>10700.0</td>\n      <td>7.672</td>\n      <td>52800</td>\n      <td>0.431818</td>\n      <td>5</td>\n      <td>1</td>\n      <td>22800</td>\n    </tr>\n    <tr>\n      <th>1</th>\n      <td>8400.0</td>\n      <td>6.692</td>\n      <td>43600</td>\n      <td>0.311927</td>\n      <td>3</td>\n      <td>0</td>\n      <td>13600</td>\n    </tr>\n    <tr>\n      <th>2</th>\n      <td>9000.0</td>\n      <td>6.963</td>\n      <td>46100</td>\n      <td>0.349241</td>\n      <td>3</td>\n      <td>0</td>\n      <td>16100</td>\n    </tr>\n    <tr>\n      <th>3</th>\n      <td>10700.0</td>\n      <td>7.664</td>\n      <td>52700</td>\n      <td>0.430740</td>\n      <td>5</td>\n      <td>1</td>\n      <td>22700</td>\n    </tr>\n    <tr>\n      <th>4</th>\n      <td>10800.0</td>\n      <td>7.698</td>\n      <td>53000</td>\n      <td>0.433962</td>\n      <td>5</td>\n      <td>1</td>\n      <td>23000</td>\n    </tr>\n  </tbody>\n</table>\n</div>"
     },
     "execution_count": 16,
     "metadata": {},
     "output_type": "execute_result"
    }
   ],
   "source": [
    "# Review the X variable DataFrame\n",
    "X.head()"
   ]
  },
  {
   "attachments": {},
   "cell_type": "markdown",
   "metadata": {},
   "source": [
    "### Step 3: Split the data into training and testing datasets by using `train_test_split`."
   ]
  },
  {
   "cell_type": "code",
   "execution_count": 18,
   "metadata": {
    "ExecuteTime": {
     "end_time": "2023-07-19T12:19:15.084270Z",
     "start_time": "2023-07-19T12:19:15.055041Z"
    }
   },
   "outputs": [],
   "source": [
    "# Import the train_test_learn module\n",
    "from sklearn.model_selection import train_test_split\n",
    "\n",
    "# Split the data using train_test_split\n",
    "# Assign a random_state of 1 to the function\n",
    "X_train, X_test, y_train, y_test = train_test_split(X,\n",
    "                                                    y,\n",
    "                                                    random_state=1,\n",
    "                                                    stratify=y)"
   ]
  },
  {
   "attachments": {},
   "cell_type": "markdown",
   "metadata": {
    "ExecuteTime": {
     "end_time": "2023-07-18T02:03:00.769010Z",
     "start_time": "2023-07-18T02:03:00.714802Z"
    }
   },
   "source": [
    "---"
   ],
   "outputs": [],
   "execution_count": 84
  },
  {
   "attachments": {},
   "cell_type": "markdown",
   "metadata": {},
   "source": [
    "## Create a Logistic Regression Model with the Original Data"
   ]
  },
  {
   "attachments": {},
   "cell_type": "markdown",
   "metadata": {},
   "source": [
    "###  Step 1: Fit a logistic regression model by using the training data (`X_train` and `y_train`)."
   ]
  },
  {
   "cell_type": "code",
   "execution_count": 21,
   "metadata": {
    "ExecuteTime": {
     "end_time": "2023-07-19T12:20:19.809400Z",
     "start_time": "2023-07-19T12:20:19.669569Z"
    }
   },
   "outputs": [
    {
     "data": {
      "text/plain": "LogisticRegression(random_state=1)"
     },
     "execution_count": 21,
     "metadata": {},
     "output_type": "execute_result"
    }
   ],
   "source": [
    "# Import the LogisticRegression module from SKLearn\n",
    "from sklearn.linear_model import LogisticRegression\n",
    "\n",
    "# Instantiate the Logistic Regression model\n",
    "# Assign a random_state parameter of 1 to the model\n",
    "classifier = LogisticRegression(solver='lbfgs', random_state=1)\n",
    "\n",
    "# Fit the model using training data\n",
    "classifier.fit(X_train, y_train)"
   ]
  },
  {
   "attachments": {},
   "cell_type": "markdown",
   "metadata": {
    "ExecuteTime": {
     "end_time": "2023-07-18T02:03:00.863694Z",
     "start_time": "2023-07-18T02:03:00.736527Z"
    }
   },
   "source": [
    "### Step 2: Save the predictions on the testing data labels by using the testing feature data (`X_test`) and the fitted model."
   ],
   "outputs": [
    {
     "data": {
      "text/plain": "LogisticRegression(random_state=1)"
     },
     "execution_count": 85,
     "metadata": {},
     "output_type": "execute_result"
    }
   ],
   "execution_count": 85
  },
  {
   "cell_type": "code",
   "execution_count": 22,
   "metadata": {
    "ExecuteTime": {
     "end_time": "2023-07-19T12:21:19.499767Z",
     "start_time": "2023-07-19T12:21:19.487416Z"
    }
   },
   "outputs": [
    {
     "data": {
      "text/plain": "       prediction  actual\n36831           0       0\n75818           0       1\n36563           0       0\n13237           0       0\n43292           0       0\n...           ...     ...\n38069           0       0\n36892           0       0\n5035            0       0\n40821           0       0\n35030           0       0\n\n[19384 rows x 2 columns]",
      "text/html": "<div>\n<style scoped>\n    .dataframe tbody tr th:only-of-type {\n        vertical-align: middle;\n    }\n\n    .dataframe tbody tr th {\n        vertical-align: top;\n    }\n\n    .dataframe thead th {\n        text-align: right;\n    }\n</style>\n<table border=\"1\" class=\"dataframe\">\n  <thead>\n    <tr style=\"text-align: right;\">\n      <th></th>\n      <th>prediction</th>\n      <th>actual</th>\n    </tr>\n  </thead>\n  <tbody>\n    <tr>\n      <th>36831</th>\n      <td>0</td>\n      <td>0</td>\n    </tr>\n    <tr>\n      <th>75818</th>\n      <td>0</td>\n      <td>1</td>\n    </tr>\n    <tr>\n      <th>36563</th>\n      <td>0</td>\n      <td>0</td>\n    </tr>\n    <tr>\n      <th>13237</th>\n      <td>0</td>\n      <td>0</td>\n    </tr>\n    <tr>\n      <th>43292</th>\n      <td>0</td>\n      <td>0</td>\n    </tr>\n    <tr>\n      <th>...</th>\n      <td>...</td>\n      <td>...</td>\n    </tr>\n    <tr>\n      <th>38069</th>\n      <td>0</td>\n      <td>0</td>\n    </tr>\n    <tr>\n      <th>36892</th>\n      <td>0</td>\n      <td>0</td>\n    </tr>\n    <tr>\n      <th>5035</th>\n      <td>0</td>\n      <td>0</td>\n    </tr>\n    <tr>\n      <th>40821</th>\n      <td>0</td>\n      <td>0</td>\n    </tr>\n    <tr>\n      <th>35030</th>\n      <td>0</td>\n      <td>0</td>\n    </tr>\n  </tbody>\n</table>\n<p>19384 rows × 2 columns</p>\n</div>"
     },
     "execution_count": 22,
     "metadata": {},
     "output_type": "execute_result"
    }
   ],
   "source": [
    "# Make a prediction using the testing data\n",
    "predictions = classifier.predict(X_test)\n",
    "pd.DataFrame({'prediction': predictions, 'actual': y_test})"
   ]
  },
  {
   "attachments": {},
   "cell_type": "markdown",
   "metadata": {
    "ExecuteTime": {
     "end_time": "2023-07-18T02:03:00.868601Z",
     "start_time": "2023-07-18T02:03:00.865594Z"
    }
   },
   "source": [
    "### Step 3: Evaluate the model’s performance by doing the following:\n",
    "\n",
    "* Generate a confusion matrix.\n",
    "\n",
    "* Print the classification report."
   ],
   "outputs": [],
   "execution_count": 86
  },
  {
   "cell_type": "code",
   "execution_count": 24,
   "metadata": {
    "ExecuteTime": {
     "end_time": "2023-07-19T12:22:02.232454Z",
     "start_time": "2023-07-19T12:22:02.223844Z"
    }
   },
   "outputs": [
    {
     "data": {
      "text/plain": "array([[18679,    80],\n       [   67,   558]])"
     },
     "execution_count": 24,
     "metadata": {},
     "output_type": "execute_result"
    }
   ],
   "source": [
    "# Generate a confusion matrix for the model\n",
    "test_matrix = confusion_matrix(y_test, predictions)\n",
    "test_matrix"
   ]
  },
  {
   "cell_type": "code",
   "execution_count": 25,
   "metadata": {
    "ExecuteTime": {
     "end_time": "2023-07-19T12:22:41.693233Z",
     "start_time": "2023-07-19T12:22:41.647846Z"
    }
   },
   "outputs": [
    {
     "name": "stdout",
     "output_type": "stream",
     "text": [
      "              precision    recall  f1-score   support\n",
      "\n",
      "           0       1.00      1.00      1.00     18759\n",
      "           1       0.87      0.89      0.88       625\n",
      "\n",
      "    accuracy                           0.99     19384\n",
      "   macro avg       0.94      0.94      0.94     19384\n",
      "weighted avg       0.99      0.99      0.99     19384\n",
      "\n"
     ]
    }
   ],
   "source": [
    "# Print the classification report for the model\n",
    "test_report = classification_report(y_test, predictions)\n",
    "print(test_report)"
   ]
  },
  {
   "attachments": {},
   "cell_type": "markdown",
   "metadata": {
    "ExecuteTime": {
     "end_time": "2023-07-18T02:03:00.915442Z",
     "start_time": "2023-07-18T02:03:00.878016Z"
    }
   },
   "source": [
    "### Step 4: Answer the following question."
   ],
   "outputs": [
    {
     "name": "stdout",
     "output_type": "stream",
     "text": [
      "              precision    recall  f1-score   support\n",
      "\n",
      "           0       1.00      1.00      1.00     18759\n",
      "           1       0.87      0.89      0.88       625\n",
      "\n",
      "    accuracy                           0.99     19384\n",
      "   macro avg       0.94      0.94      0.94     19384\n",
      "weighted avg       0.99      0.99      0.99     19384\n",
      "\n"
     ]
    }
   ],
   "execution_count": 88
  },
  {
   "attachments": {},
   "cell_type": "markdown",
   "metadata": {
    "ExecuteTime": {
     "end_time": "2023-07-18T01:51:55.882084Z",
     "start_time": "2023-07-18T01:51:55.850490Z"
    }
   },
   "source": [
    "**Question:** How well does the logistic regression model predict both the `0` (healthy loan) and `1` (high-risk loan) labels?\n",
    "\n",
    "**Answer:** WOur statistical analysis of the model indicates that it performs exceptionally well in accurately predicting the label 0, which corresponds to healthy loans. It achieves perfect precision, recall, and F1-score for this category. Moreover, the model demonstrates commendable performance in predicting the label 1, associated with high-risk loans, with relatively high precision, recall, and F1-score. However, there is still potential for enhancement in the prediction of high-risk loans, as evidenced by comparatively lower precision and recall values compared to those for healthy loans."
   ],
   "outputs": [
    {
     "name": "stdout",
     "output_type": "stream",
     "text": [
      "              precision    recall  f1-score   support\n",
      "\n",
      "           0       1.00      1.00      1.00     18759\n",
      "           1       0.87      0.89      0.88       625\n",
      "\n",
      "    accuracy                           0.99     19384\n",
      "   macro avg       0.94      0.94      0.94     19384\n",
      "weighted avg       0.99      0.99      0.99     19384\n",
      "\n"
     ]
    }
   ],
   "execution_count": 40
  },
  {
   "attachments": {},
   "cell_type": "markdown",
   "metadata": {},
   "source": [
    "---"
   ]
  }
 ],
 "metadata": {
  "kernelspec": {
   "name": "python3",
   "language": "python",
   "display_name": "Python 3 (ipykernel)"
  },
  "language_info": {
   "codemirror_mode": {
    "name": "ipython",
    "version": 3
   },
   "file_extension": ".py",
   "mimetype": "text/x-python",
   "name": "python",
   "nbconvert_exporter": "python",
   "pygments_lexer": "ipython3",
   "version": "3.7.7"
  },
  "vscode": {
   "interpreter": {
    "hash": "31f2aee4e71d21fbe5cf8b01ff0e069b9275f58929596ceb00d14d90e3e16cd6"
   }
  }
 },
 "nbformat": 4,
 "nbformat_minor": 4
}
